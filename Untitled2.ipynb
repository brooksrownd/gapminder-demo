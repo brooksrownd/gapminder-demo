{
 "cells": [
  {
   "cell_type": "code",
   "execution_count": 1,
   "id": "0d40b997-6cd8-45c1-b15b-e0b7d0f0a76f",
   "metadata": {},
   "outputs": [],
   "source": [
    "age = 42"
   ]
  },
  {
   "cell_type": "code",
   "execution_count": 2,
   "id": "3af9db4a-91e8-4e4a-9538-0a5e753813cb",
   "metadata": {},
   "outputs": [],
   "source": [
    "first_name = 'Ahmed'"
   ]
  },
  {
   "cell_type": "code",
   "execution_count": 3,
   "id": "a303904a-b9ce-41cd-9ce4-b436b017984a",
   "metadata": {},
   "outputs": [
    {
     "data": {
      "text/plain": [
       "3"
      ]
     },
     "execution_count": 3,
     "metadata": {},
     "output_type": "execute_result"
    }
   ],
   "source": [
    "7+2\n",
    "4-1"
   ]
  },
  {
   "cell_type": "code",
   "execution_count": 4,
   "id": "57e1702e-844e-4145-b7d6-2e1cc7f5b0f3",
   "metadata": {},
   "outputs": [],
   "source": [
    "x = 4 + 4\n"
   ]
  },
  {
   "cell_type": "code",
   "execution_count": 5,
   "id": "bb2dd5f6-bb82-4c25-8106-4de6ab61a36a",
   "metadata": {},
   "outputs": [
    {
     "name": "stdout",
     "output_type": "stream",
     "text": [
      "8\n"
     ]
    }
   ],
   "source": [
    "print(x)"
   ]
  },
  {
   "cell_type": "code",
   "execution_count": 6,
   "id": "b3feae77-2b1e-4cf3-bb0a-3a604ebcc9fb",
   "metadata": {},
   "outputs": [
    {
     "name": "stdout",
     "output_type": "stream",
     "text": [
      "Ahmed  is  42  old \n"
     ]
    }
   ],
   "source": [
    "print( first_name, \" is \", age, \" old \"  )"
   ]
  },
  {
   "cell_type": "code",
   "execution_count": 7,
   "id": "568b56d3-b1ba-4c8b-b764-eed61c3b1386",
   "metadata": {},
   "outputs": [
    {
     "name": "stdout",
     "output_type": "stream",
     "text": [
      "Ahmed is 42 old\n"
     ]
    }
   ],
   "source": [
    "print(first_name, 'is', age, 'old')"
   ]
  },
  {
   "cell_type": "code",
   "execution_count": 8,
   "id": "31fbb9b1-bf3f-465c-8ba6-25dcb5eae910",
   "metadata": {},
   "outputs": [
    {
     "ename": "NameError",
     "evalue": "name 'last_name' is not defined",
     "output_type": "error",
     "traceback": [
      "\u001b[0;31m---------------------------------------------------------------------------\u001b[0m",
      "\u001b[0;31mNameError\u001b[0m                                 Traceback (most recent call last)",
      "\u001b[0;32m<ipython-input-8-a637c5453549>\u001b[0m in \u001b[0;36m<module>\u001b[0;34m\u001b[0m\n\u001b[0;32m----> 1\u001b[0;31m \u001b[0mprint\u001b[0m\u001b[0;34m(\u001b[0m\u001b[0mlast_name\u001b[0m\u001b[0;34m)\u001b[0m\u001b[0;34m\u001b[0m\u001b[0;34m\u001b[0m\u001b[0m\n\u001b[0m",
      "\u001b[0;31mNameError\u001b[0m: name 'last_name' is not defined"
     ]
    }
   ],
   "source": [
    "print(last_name)"
   ]
  },
  {
   "cell_type": "code",
   "execution_count": null,
   "id": "d58d44be-e178-4ace-b190-3f0d2c1b4f4a",
   "metadata": {},
   "outputs": [],
   "source": [
    "print(myval)"
   ]
  },
  {
   "cell_type": "code",
   "execution_count": null,
   "id": "cac35b84-0747-4dbc-8309-06d555fcf6f1",
   "metadata": {},
   "outputs": [],
   "source": [
    "myval = 1"
   ]
  },
  {
   "cell_type": "code",
   "execution_count": 9,
   "id": "0d10a682-4613-4795-b344-d045fd7489f3",
   "metadata": {},
   "outputs": [],
   "source": [
    "age=age+3"
   ]
  },
  {
   "cell_type": "code",
   "execution_count": 10,
   "id": "80d32c96-96bb-4341-952c-655b2108e8f1",
   "metadata": {},
   "outputs": [
    {
     "name": "stdout",
     "output_type": "stream",
     "text": [
      "age in 3 years 45\n"
     ]
    }
   ],
   "source": [
    "print('age in 3 years', age)"
   ]
  },
  {
   "cell_type": "code",
   "execution_count": 11,
   "id": "3e3a0c37-f221-46b1-ad29-da5791efd9d0",
   "metadata": {},
   "outputs": [
    {
     "name": "stdout",
     "output_type": "stream",
     "text": [
      "h\n"
     ]
    }
   ],
   "source": [
    "atom_name = 'helium'\n",
    "print( atom_name[0])"
   ]
  },
  {
   "cell_type": "code",
   "execution_count": 13,
   "id": "900a99ad-15e5-4592-8383-e66fe9762c84",
   "metadata": {},
   "outputs": [
    {
     "name": "stdout",
     "output_type": "stream",
     "text": [
      "od\n"
     ]
    }
   ],
   "source": [
    "atom_name = 'sodium'\n",
    "print( atom_name[1:3])"
   ]
  },
  {
   "cell_type": "code",
   "execution_count": 14,
   "id": "631bb2f3-7653-4311-9849-afc4ecdb2b05",
   "metadata": {},
   "outputs": [],
   "source": [
    "###  comment"
   ]
  },
  {
   "cell_type": "code",
   "execution_count": 15,
   "id": "617eb5c1-9221-4b69-87f2-1d271fd651a7",
   "metadata": {},
   "outputs": [
    {
     "name": "stdout",
     "output_type": "stream",
     "text": [
      "6\n"
     ]
    }
   ],
   "source": [
    "print(len(\"helium\"))"
   ]
  },
  {
   "cell_type": "code",
   "execution_count": 16,
   "id": "6b531d8f-d772-4cf7-abfd-712bf4e14bf7",
   "metadata": {},
   "outputs": [
    {
     "name": "stdout",
     "output_type": "stream",
     "text": [
      "\n"
     ]
    }
   ],
   "source": [
    "print(atom_name[100:101])"
   ]
  },
  {
   "cell_type": "code",
   "execution_count": 17,
   "id": "39631a72-3e95-432a-933f-4b489a948395",
   "metadata": {},
   "outputs": [
    {
     "data": {
      "text/plain": [
       "str"
      ]
     },
     "execution_count": 17,
     "metadata": {},
     "output_type": "execute_result"
    }
   ],
   "source": [
    "type(atom_name)"
   ]
  },
  {
   "cell_type": "code",
   "execution_count": 18,
   "id": "69c87f90-cf3a-4d87-bdc2-7d7076b569a5",
   "metadata": {},
   "outputs": [
    {
     "data": {
      "text/plain": [
       "float"
      ]
     },
     "execution_count": 18,
     "metadata": {},
     "output_type": "execute_result"
    }
   ],
   "source": [
    "type(62.3)"
   ]
  },
  {
   "cell_type": "code",
   "execution_count": 19,
   "id": "6bcda88d-dd83-4b8f-b36f-8ff9c0f3f210",
   "metadata": {},
   "outputs": [
    {
     "name": "stdout",
     "output_type": "stream",
     "text": [
      "<class 'str'>\n"
     ]
    }
   ],
   "source": [
    "print(type(atom_name))"
   ]
  },
  {
   "cell_type": "code",
   "execution_count": 20,
   "id": "fb0622ec-fef3-4614-a79d-fcbdf8763d8d",
   "metadata": {},
   "outputs": [],
   "source": [
    "separator = '=' * 10"
   ]
  },
  {
   "cell_type": "code",
   "execution_count": 21,
   "id": "43529aac-dc7f-4abb-9d6e-958919a83812",
   "metadata": {},
   "outputs": [
    {
     "name": "stdout",
     "output_type": "stream",
     "text": [
      "==========\n"
     ]
    }
   ],
   "source": [
    "print(separator)"
   ]
  },
  {
   "cell_type": "code",
   "execution_count": 22,
   "id": "c34ddc9b-cd0c-463e-9b9c-8bd849e1f6c7",
   "metadata": {},
   "outputs": [
    {
     "name": "stdout",
     "output_type": "stream",
     "text": [
      "10\n"
     ]
    }
   ],
   "source": [
    "print(len(separator))"
   ]
  },
  {
   "cell_type": "code",
   "execution_count": 24,
   "id": "47bac9cd-855e-4360-87db-7e8ccd63d895",
   "metadata": {},
   "outputs": [
    {
     "name": "stdout",
     "output_type": "stream",
     "text": [
      "2\n"
     ]
    }
   ],
   "source": [
    "print( 1 + len('2'))\n"
   ]
  },
  {
   "cell_type": "code",
   "execution_count": 25,
   "id": "24d37435-5d8c-446a-a1ab-82d1964f3f62",
   "metadata": {},
   "outputs": [
    {
     "name": "stdout",
     "output_type": "stream",
     "text": [
      "12\n"
     ]
    }
   ],
   "source": [
    "print(str(1) + '2')"
   ]
  },
  {
   "cell_type": "code",
   "execution_count": 26,
   "id": "e01749a9-8f14-4aa4-a327-2671c4b94c7d",
   "metadata": {},
   "outputs": [
    {
     "data": {
      "text/plain": [
       "float"
      ]
     },
     "execution_count": 26,
     "metadata": {},
     "output_type": "execute_result"
    }
   ],
   "source": [
    "type(3.4)"
   ]
  },
  {
   "cell_type": "code",
   "execution_count": 27,
   "id": "1cfac4f7-b7f0-4e6d-892e-d589597ea0e5",
   "metadata": {},
   "outputs": [
    {
     "data": {
      "text/plain": [
       "float"
      ]
     },
     "execution_count": 27,
     "metadata": {},
     "output_type": "execute_result"
    }
   ],
   "source": [
    "type(3.25+4)"
   ]
  },
  {
   "cell_type": "code",
   "execution_count": 28,
   "id": "ef6d4469-107a-461c-b93a-8e13306f1490",
   "metadata": {},
   "outputs": [
    {
     "name": "stdout",
     "output_type": "stream",
     "text": [
      "string to float 3.4\n"
     ]
    }
   ],
   "source": [
    "print(\"string to float\", float(\"3.4\"))"
   ]
  },
  {
   "cell_type": "code",
   "execution_count": 30,
   "id": "f8e0acad-6acf-4af6-aa37-872fcb2a149d",
   "metadata": {},
   "outputs": [
    {
     "name": "stdout",
     "output_type": "stream",
     "text": [
      "foat to int 3\n"
     ]
    }
   ],
   "source": [
    "print(\"foat to int\", int(3.8))"
   ]
  },
  {
   "cell_type": "code",
   "execution_count": 31,
   "id": "5da23f54-9ae7-40a3-8d6e-5e24a4ff12af",
   "metadata": {},
   "outputs": [
    {
     "name": "stdout",
     "output_type": "stream",
     "text": [
      "4.2\n"
     ]
    }
   ],
   "source": [
    "print(-5.8%5)"
   ]
  },
  {
   "cell_type": "code",
   "execution_count": 32,
   "id": "94d14bb1-d6aa-45d7-adba-7dfe59b7a2b0",
   "metadata": {},
   "outputs": [],
   "source": [
    "complex = 6 + 2j\n"
   ]
  },
  {
   "cell_type": "code",
   "execution_count": 33,
   "id": "45234dbc-9154-48b8-ba1c-0d952ee1f6ce",
   "metadata": {},
   "outputs": [
    {
     "name": "stdout",
     "output_type": "stream",
     "text": [
      "6.0\n"
     ]
    }
   ],
   "source": [
    "print(complex.real)"
   ]
  },
  {
   "cell_type": "code",
   "execution_count": 34,
   "id": "2e473afb-b07c-483e-8866-aba03131a606",
   "metadata": {},
   "outputs": [
    {
     "name": "stdout",
     "output_type": "stream",
     "text": [
      "2.0\n"
     ]
    }
   ],
   "source": [
    "print(complex.imag)"
   ]
  },
  {
   "cell_type": "code",
   "execution_count": 35,
   "id": "fb6b2c53-5450-48e4-a44a-39d4fdabf3a7",
   "metadata": {},
   "outputs": [
    {
     "name": "stdout",
     "output_type": "stream",
     "text": [
      "(4+2j)\n"
     ]
    }
   ],
   "source": [
    "print(1 + 2j + 3)"
   ]
  },
  {
   "cell_type": "code",
   "execution_count": 38,
   "id": "ef1b6a99-b01f-4067-a671-9482cc46b162",
   "metadata": {},
   "outputs": [
    {
     "name": "stdout",
     "output_type": "stream",
     "text": [
      "(4+1j)\n"
     ]
    }
   ],
   "source": [
    "print(4 + 1j)"
   ]
  },
  {
   "cell_type": "code",
   "execution_count": 39,
   "id": "77c12164-ab08-437e-8d63-f8165fb1ff6b",
   "metadata": {},
   "outputs": [],
   "source": [
    "#this is junk"
   ]
  },
  {
   "cell_type": "code",
   "execution_count": 40,
   "id": "06940555-0751-43ed-a3a2-c91fedb38f97",
   "metadata": {},
   "outputs": [],
   "source": [
    "adjustment=0.5  #junk here too"
   ]
  },
  {
   "cell_type": "code",
   "execution_count": 41,
   "id": "f8d872cc-ad41-4fc7-ba14-42429bd4beff",
   "metadata": {},
   "outputs": [
    {
     "name": "stdout",
     "output_type": "stream",
     "text": [
      "example\n"
     ]
    }
   ],
   "source": [
    "result = print('example')"
   ]
  },
  {
   "cell_type": "code",
   "execution_count": 42,
   "id": "099f3cc4-3ff2-4460-96e7-aa2dd32355c3",
   "metadata": {},
   "outputs": [
    {
     "name": "stdout",
     "output_type": "stream",
     "text": [
      "None\n"
     ]
    }
   ],
   "source": [
    "print(result)"
   ]
  },
  {
   "cell_type": "code",
   "execution_count": 43,
   "id": "40362ed3-e874-4bc6-93b0-39e225890b52",
   "metadata": {},
   "outputs": [
    {
     "name": "stdout",
     "output_type": "stream",
     "text": [
      "u\n"
     ]
    }
   ],
   "source": [
    "print(max(atom_name))"
   ]
  },
  {
   "cell_type": "code",
   "execution_count": 44,
   "id": "938b4278-0d4b-4e1c-83ec-d0fa5e7460c6",
   "metadata": {},
   "outputs": [
    {
     "name": "stdout",
     "output_type": "stream",
     "text": [
      "tin\n"
     ]
    }
   ],
   "source": [
    "rich=\"gold\"\n",
    "poor=\"tin\"\n",
    "print(max(rich,poor))"
   ]
  },
  {
   "cell_type": "code",
   "execution_count": 47,
   "id": "eddaeb4c-ac07-49ef-a316-54335c8bfe19",
   "metadata": {},
   "outputs": [
    {
     "name": "stdout",
     "output_type": "stream",
     "text": [
      "n\n"
     ]
    }
   ],
   "source": [
    "print(poor[len(poor)-1])"
   ]
  },
  {
   "cell_type": "code",
   "execution_count": 48,
   "id": "a4c200e2-9f8d-49f2-8d90-d84a0bdde541",
   "metadata": {},
   "outputs": [],
   "source": [
    "import math\n"
   ]
  },
  {
   "cell_type": "code",
   "execution_count": 49,
   "id": "eee28be7-6307-4edc-8cf9-5f327f0d182e",
   "metadata": {},
   "outputs": [],
   "source": [
    "import numpy"
   ]
  },
  {
   "cell_type": "code",
   "execution_count": 52,
   "id": "1dbb3f1d-ec1c-495a-b3ea-0249bf1452ad",
   "metadata": {},
   "outputs": [
    {
     "name": "stdout",
     "output_type": "stream",
     "text": [
      "-1.0\n"
     ]
    }
   ],
   "source": [
    "print(math.cos(math.pi))"
   ]
  },
  {
   "cell_type": "code",
   "execution_count": 53,
   "id": "9d16d674-23c3-4eb3-92f3-46bd3708ba4d",
   "metadata": {},
   "outputs": [],
   "source": [
    "from math import cos, pi\n"
   ]
  },
  {
   "cell_type": "code",
   "execution_count": 55,
   "id": "9001c581-46b6-4a4e-b9a2-e80e081274ae",
   "metadata": {
    "collapsed": true,
    "jupyter": {
     "outputs_hidden": true
    },
    "tags": []
   },
   "outputs": [
    {
     "ename": "ImportError",
     "evalue": "cannot import name 'rnd' from 'math' (/home/brownd/miniconda3/lib/python3.9/lib-dynload/math.cpython-39-x86_64-linux-gnu.so)",
     "output_type": "error",
     "traceback": [
      "\u001b[0;31m---------------------------------------------------------------------------\u001b[0m",
      "\u001b[0;31mImportError\u001b[0m                               Traceback (most recent call last)",
      "\u001b[0;32m<ipython-input-55-018e0608fbe6>\u001b[0m in \u001b[0;36m<module>\u001b[0;34m\u001b[0m\n\u001b[0;32m----> 1\u001b[0;31m \u001b[0;32mfrom\u001b[0m \u001b[0mmath\u001b[0m \u001b[0;32mimport\u001b[0m \u001b[0mrnd\u001b[0m\u001b[0;34m\u001b[0m\u001b[0;34m\u001b[0m\u001b[0m\n\u001b[0m",
      "\u001b[0;31mImportError\u001b[0m: cannot import name 'rnd' from 'math' (/home/brownd/miniconda3/lib/python3.9/lib-dynload/math.cpython-39-x86_64-linux-gnu.so)"
     ]
    }
   ],
   "source": [
    "from math import rnd\n"
   ]
  },
  {
   "cell_type": "code",
   "execution_count": 57,
   "id": "e69869e1-e85a-486e-8239-457b23fcf20f",
   "metadata": {},
   "outputs": [
    {
     "ename": "AttributeError",
     "evalue": "module 'math' has no attribute 'random'",
     "output_type": "error",
     "traceback": [
      "\u001b[0;31m---------------------------------------------------------------------------\u001b[0m",
      "\u001b[0;31mAttributeError\u001b[0m                            Traceback (most recent call last)",
      "\u001b[0;32m<ipython-input-57-07f8a4494472>\u001b[0m in \u001b[0;36m<module>\u001b[0;34m\u001b[0m\n\u001b[0;32m----> 1\u001b[0;31m \u001b[0mprint\u001b[0m\u001b[0;34m(\u001b[0m\u001b[0mmath\u001b[0m\u001b[0;34m.\u001b[0m\u001b[0mrandom\u001b[0m\u001b[0;34m(\u001b[0m\u001b[0;34m)\u001b[0m\u001b[0;34m)\u001b[0m\u001b[0;34m\u001b[0m\u001b[0;34m\u001b[0m\u001b[0m\n\u001b[0m",
      "\u001b[0;31mAttributeError\u001b[0m: module 'math' has no attribute 'random'"
     ]
    }
   ],
   "source": [
    "print(math.random())"
   ]
  },
  {
   "cell_type": "code",
   "execution_count": 58,
   "id": "43ef0388-09e4-4733-995e-edd9a1b57409",
   "metadata": {},
   "outputs": [],
   "source": [
    "import random\n"
   ]
  },
  {
   "cell_type": "code",
   "execution_count": 59,
   "id": "7cbad4d7-256b-4cc2-8f52-7c98daf24f88",
   "metadata": {},
   "outputs": [],
   "source": [
    "bases=\"ACTTGCTTGAC\""
   ]
  },
  {
   "cell_type": "code",
   "execution_count": 66,
   "id": "42740efa-4718-41c8-898f-baebdf9dad32",
   "metadata": {},
   "outputs": [
    {
     "name": "stdout",
     "output_type": "stream",
     "text": [
      "T\n"
     ]
    }
   ],
   "source": [
    "print(bases[random.randrange(len(bases))])"
   ]
  },
  {
   "cell_type": "code",
   "execution_count": null,
   "id": "f8fb7d0f-6312-4088-9284-759bc479642a",
   "metadata": {},
   "outputs": [],
   "source": []
  },
  {
   "cell_type": "code",
   "execution_count": null,
   "id": "093e8f4b-0539-46b8-b815-8141232a2aeb",
   "metadata": {},
   "outputs": [],
   "source": []
  }
 ],
 "metadata": {
  "kernelspec": {
   "display_name": "Python 3",
   "language": "python",
   "name": "python3"
  },
  "language_info": {
   "codemirror_mode": {
    "name": "ipython",
    "version": 3
   },
   "file_extension": ".py",
   "mimetype": "text/x-python",
   "name": "python",
   "nbconvert_exporter": "python",
   "pygments_lexer": "ipython3",
   "version": "3.9.1"
  }
 },
 "nbformat": 4,
 "nbformat_minor": 5
}
