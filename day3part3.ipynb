{
 "cells": [
  {
   "cell_type": "code",
   "execution_count": 1,
   "id": "46096f91-041f-4095-b8f2-4077d461a143",
   "metadata": {},
   "outputs": [
    {
     "data": {
      "text/plain": [
       "[0.273, 0.275, 0.277, 0.275, 0.276]"
      ]
     },
     "execution_count": 1,
     "metadata": {},
     "output_type": "execute_result"
    }
   ],
   "source": [
    "pressures = [0.273, 0.275, 0.277, 0.275, 0.276]\n",
    "pressures"
   ]
  },
  {
   "cell_type": "code",
   "execution_count": 2,
   "id": "1e850fca-065a-4c90-996a-cdcb0959b378",
   "metadata": {},
   "outputs": [
    {
     "data": {
      "text/plain": [
       "5"
      ]
     },
     "execution_count": 2,
     "metadata": {},
     "output_type": "execute_result"
    }
   ],
   "source": [
    "len(pressures)"
   ]
  },
  {
   "cell_type": "code",
   "execution_count": 3,
   "id": "06a732a4-9229-42a8-8d1d-081a50ace8c8",
   "metadata": {},
   "outputs": [
    {
     "data": {
      "text/plain": [
       "0.273"
      ]
     },
     "execution_count": 3,
     "metadata": {},
     "output_type": "execute_result"
    }
   ],
   "source": [
    "pressures[0]"
   ]
  },
  {
   "cell_type": "code",
   "execution_count": 4,
   "id": "09498779-2d6a-41cf-bb06-e3ec3f359ab4",
   "metadata": {},
   "outputs": [
    {
     "data": {
      "text/plain": [
       "0.276"
      ]
     },
     "execution_count": 4,
     "metadata": {},
     "output_type": "execute_result"
    }
   ],
   "source": [
    "pressures[len(pressures)-1]"
   ]
  },
  {
   "cell_type": "code",
   "execution_count": 5,
   "id": "215ef158-601a-48af-b576-a66f7294592d",
   "metadata": {},
   "outputs": [
    {
     "ename": "IndexError",
     "evalue": "list index out of range",
     "output_type": "error",
     "traceback": [
      "\u001b[0;31m---------------------------------------------------------------------------\u001b[0m",
      "\u001b[0;31mIndexError\u001b[0m                                Traceback (most recent call last)",
      "\u001b[0;32m<ipython-input-5-dfcc7db3d2e3>\u001b[0m in \u001b[0;36m<module>\u001b[0;34m\u001b[0m\n\u001b[0;32m----> 1\u001b[0;31m \u001b[0mpressures\u001b[0m\u001b[0;34m[\u001b[0m\u001b[0mlen\u001b[0m\u001b[0;34m(\u001b[0m\u001b[0mpressures\u001b[0m\u001b[0;34m)\u001b[0m\u001b[0;34m]\u001b[0m\u001b[0;34m\u001b[0m\u001b[0;34m\u001b[0m\u001b[0m\n\u001b[0m",
      "\u001b[0;31mIndexError\u001b[0m: list index out of range"
     ]
    }
   ],
   "source": [
    "pressures[len(pressures)]"
   ]
  },
  {
   "cell_type": "code",
   "execution_count": 6,
   "id": "043c3e67-d881-4013-9f66-fb69da06e8d4",
   "metadata": {},
   "outputs": [
    {
     "data": {
      "text/plain": [
       "0.276"
      ]
     },
     "execution_count": 6,
     "metadata": {},
     "output_type": "execute_result"
    }
   ],
   "source": [
    "pressures[-1]"
   ]
  },
  {
   "cell_type": "code",
   "execution_count": 7,
   "id": "a779463f-5209-4beb-b474-381141c399c7",
   "metadata": {},
   "outputs": [
    {
     "name": "stdout",
     "output_type": "stream",
     "text": [
      "0.273\n",
      "0.275\n",
      "0.277\n",
      "0.275\n",
      "0.276\n"
     ]
    }
   ],
   "source": [
    "for number in pressures:\n",
    "    print(number)"
   ]
  },
  {
   "cell_type": "code",
   "execution_count": 8,
   "id": "225da4c6-be53-42ed-b7be-966e8f05c12b",
   "metadata": {},
   "outputs": [
    {
     "name": "stdout",
     "output_type": "stream",
     "text": [
      "0.273 0.07452900000000001 0.020346417000000006\n",
      "0.275 0.07562500000000001 0.020796875000000006\n",
      "0.277 0.07672900000000002 0.021253933000000006\n",
      "0.275 0.07562500000000001 0.020796875000000006\n",
      "0.276 0.07617600000000001 0.021024576000000007\n"
     ]
    }
   ],
   "source": [
    "for kitten in pressures:\n",
    "    squared = kitten ** 2\n",
    "    cubed = kitten ** 3\n",
    "    print(kitten,squared,cubed)"
   ]
  },
  {
   "cell_type": "code",
   "execution_count": null,
   "id": "628eb673-738c-4855-a9ea-50dc0f3b8b06",
   "metadata": {},
   "outputs": [],
   "source": []
  }
 ],
 "metadata": {
  "kernelspec": {
   "display_name": "Python 3",
   "language": "python",
   "name": "python3"
  },
  "language_info": {
   "codemirror_mode": {
    "name": "ipython",
    "version": 3
   },
   "file_extension": ".py",
   "mimetype": "text/x-python",
   "name": "python",
   "nbconvert_exporter": "python",
   "pygments_lexer": "ipython3",
   "version": "3.9.1"
  }
 },
 "nbformat": 4,
 "nbformat_minor": 5
}
